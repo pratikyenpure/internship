{
 "cells": [
  {
   "cell_type": "markdown",
   "id": "024a58fd-12d1-4245-a08f-a1ac66b8847b",
   "metadata": {},
   "source": [
    "ASSIGNMENT ON DATA SCRAPPING"
   ]
  },
  {
   "cell_type": "code",
   "execution_count": null,
   "id": "45303fb1-b193-43e0-ad00-bcdbbab6f838",
   "metadata": {},
   "outputs": [],
   "source": []
  },
  {
   "cell_type": "code",
   "execution_count": null,
   "id": "14dd9bd7-0c65-4922-88d8-6ec4d3aaa874",
   "metadata": {},
   "outputs": [],
   "source": []
  },
  {
   "cell_type": "code",
   "execution_count": 1,
   "id": "c00c55e1-1f53-432a-b6e5-e22804b0206e",
   "metadata": {},
   "outputs": [],
   "source": [
    "from bs4 import BeautifulSoup\n",
    "import requests"
   ]
  },
  {
   "cell_type": "code",
   "execution_count": null,
   "id": "5fe6dc5e-ee79-4051-ae9e-e75e478fcd91",
   "metadata": {},
   "outputs": [],
   "source": []
  },
  {
   "cell_type": "markdown",
   "id": "33c6b8c3-8540-49f6-97e1-0d17da3ded99",
   "metadata": {},
   "source": [
    "1) Write a python program to display all the header tags from wikipedia.org."
   ]
  },
  {
   "cell_type": "code",
   "execution_count": 3,
   "id": "05e13592-7e4d-4469-8e05-020920a4b9b7",
   "metadata": {},
   "outputs": [],
   "source": [
    "url = \"https://en.wikipedia.org/\"\n",
    "response = requests.get(url)"
   ]
  },
  {
   "cell_type": "code",
   "execution_count": 4,
   "id": "0b16470f-f930-4797-bf99-fe7042c34bd2",
   "metadata": {},
   "outputs": [],
   "source": [
    "soup = BeautifulSoup(response.text, \"html\")"
   ]
  },
  {
   "cell_type": "code",
   "execution_count": 10,
   "id": "b67c7ae9-6ec2-40f0-807a-3185dcd4d85d",
   "metadata": {},
   "outputs": [
    {
     "name": "stdout",
     "output_type": "stream",
     "text": [
      "Main Page\n",
      "Welcome to Wikipedia\n",
      "From today's featured article\n",
      "Did you know ...\n",
      "In the news\n",
      "On this day\n",
      "From today's featured list\n",
      "Today's featured picture\n",
      "Other areas of Wikipedia\n",
      "Wikipedia's sister projects\n",
      "Wikipedia languages\n"
     ]
    }
   ],
   "source": [
    "tags = soup.find_all(['h1', 'h2', 'h3', 'h4', 'h5', 'h6'])\n",
    "for tag in tags:\n",
    "    print(tag.text.strip())"
   ]
  },
  {
   "cell_type": "markdown",
   "id": "6f78538f-8fc8-4523-9896-a20a440dc260",
   "metadata": {},
   "source": [
    "2) Write a python program to display IMDB’s Top rated 100 movies’ data (i.e. name, rating, year\n",
    "of release) and make data frame.\n"
   ]
  },
  {
   "cell_type": "code",
   "execution_count": 11,
   "id": "a9dcf3af-52c9-46a0-9c6e-0104315ad192",
   "metadata": {},
   "outputs": [],
   "source": [
    "url = \"https://www.imdb.com/list/ls091520106/\"\n",
    "response = requests.get(url)"
   ]
  },
  {
   "cell_type": "code",
   "execution_count": 12,
   "id": "b25313be-7440-4ee9-b924-1f014cafbbb1",
   "metadata": {},
   "outputs": [],
   "source": [
    "import pandas as pd"
   ]
  },
  {
   "cell_type": "code",
   "execution_count": 14,
   "id": "a5fef714-899a-4011-ad24-b6d100f45715",
   "metadata": {},
   "outputs": [],
   "source": [
    "soup = BeautifulSoup(response.text, \"html\")"
   ]
  },
  {
   "cell_type": "code",
   "execution_count": 18,
   "id": "0d792a90-8554-4a5d-bb6b-99e0dceb9321",
   "metadata": {},
   "outputs": [],
   "source": [
    "movie_containers = soup.find_all('div', class_='lister-item-content')\n",
    "names = []\n",
    "ratings = []\n",
    "years = []\n",
    "for container in movie_containers:\n",
    "    name = container.h3.a.text.strip()\n",
    "    names.append(name)\n",
    "    rating = container.find('span', class_='ipl-rating-star__rating').text.strip()\n",
    "    ratings.append(float(rating))\n",
    "    year = container.find('span', class_='lister-item-year').text.strip('()')\n",
    "    years.append(year)\n"
   ]
  },
  {
   "cell_type": "code",
   "execution_count": 19,
   "id": "17e0ae3c-a3a7-465c-b52f-f9074f1daf75",
   "metadata": {},
   "outputs": [
    {
     "name": "stdout",
     "output_type": "stream",
     "text": [
      "                                   Name  Rating Year of Release\n",
      "0              The Shawshank Redemption     9.3            1994\n",
      "1                         The Godfather     9.2            1972\n",
      "2                 The Godfather Part II     9.0            1974\n",
      "3                       The Dark Knight     9.0            2008\n",
      "4                          12 Angry Men     9.0            1957\n",
      "..                                  ...     ...             ...\n",
      "95                   North by Northwest     8.3            1959\n",
      "96                   A Clockwork Orange     8.3            1971\n",
      "97                               Snatch     8.2            2000\n",
      "98  Le fabuleux destin d'Amélie Poulain     8.3            2001\n",
      "99                              The Kid     8.2            1921\n",
      "\n",
      "[100 rows x 3 columns]\n"
     ]
    }
   ],
   "source": [
    "df= pd.DataFrame({\n",
    "    'Name': names,\n",
    "    'Rating': ratings,\n",
    "    'Year of Release': years\n",
    "})\n",
    "print(df)"
   ]
  },
  {
   "cell_type": "markdown",
   "id": "e3b2f7e6-8fe7-45a0-8bae-d1efb31f17e3",
   "metadata": {},
   "source": [
    "3) Write a python program to scrape mentioned details from dineout.co.in : i) Restaurant name\n",
    "ii) Cuisine iii) Location iv) Ratings v) Image URL.\n"
   ]
  },
  {
   "cell_type": "code",
   "execution_count": 38,
   "id": "52b792e0-b130-45e5-ab27-94e34020fb73",
   "metadata": {},
   "outputs": [],
   "source": [
    "url = \"https://www.dineout.co.in/mumbai\"\n",
    "response = requests.get(url)\n",
    "import pandas as pd\n",
    "Restaurant_name = []\n",
    "Cuisine = []\n",
    "Location = []\n",
    "Ratings = []\n",
    "Image_URL = []\n",
    "soup = BeautifulSoup(response.text, \"html\")\n",
    "restaurant = soup.find_all('div', class_='restnt-info cursor')\n",
    "for resto in restaurant:\n",
    "    name = resto.find('a', class_='restnt-name ellipsis').text.strip()\n",
    "    Restaurant_names.append(name)\n",
    "\n",
    "    cuisine = resto.find('span', class_='double-line-ellipsis').text.strip()\n",
    "    Cuisines.append(cuisine)\n",
    "\n",
    "    location = resto.find('div', class_='restnt-loc ellipsis').text.strip()\n",
    "    Location.append(location)\n",
    "    Rating = resto.find('div', class_='img-wrp').text.strip()\n",
    "    Ratings.append(float(Rating))\n",
    "    image_URL = resto.find(\"img\", class_=\"_1p7zX _1zyl5 lazy-img no-img img-loaded\").text.strip()\n",
    "    Image_URL.append(image_URL)\n"
   ]
  },
  {
   "cell_type": "code",
   "execution_count": 55,
   "id": "98564575-7d23-4041-8eb6-f52956639525",
   "metadata": {},
   "outputs": [],
   "source": [
    "for i in range(len(Restaurant_name)):\n",
    "    print(\"Restaurant_name:\", Restaurant_name[i])\n",
    "    print(\"Cuisine:\", cuisines[i])\n",
    "    print(\"Location:\", locations[i])\n",
    "    print(\"Ratings:\", ratings[i])\n",
    "    print(\"Image URL:\", image_urls[i])\n",
    "    print(\"i\")"
   ]
  },
  {
   "cell_type": "markdown",
   "id": "c6fae1ac-a4d7-4066-b6f1-a76f597b26bc",
   "metadata": {},
   "source": [
    "Write s python program to display list of respected former finance minister of India(i.e.\n",
    "Name , Term of office) from https://presidentofindia.nic.in/former-presidents.htm and make\n",
    "data frame."
   ]
  },
  {
   "cell_type": "markdown",
   "id": "2aa746b1-dc02-42e2-aebc-9f2489c7dae8",
   "metadata": {},
   "source": [
    "url = \"https://presidentofindia.nic.in/former-presidents\"\n",
    "response = requests.get(url)\n",
    "html_content = response.text\n",
    "\n",
    "soup = BeautifulSoup(html_content, 'html.parser')\n",
    "\n",
    "table = soup.find('table', class_='table table-striped')\n",
    "\n",
    "names = []\n",
    "terms_of_office = []\n",
    "\n",
    "\n",
    "rows = table.find_all('tr')\n",
    "for row in rows:\n",
    "    cols = row.find_all('td')\n",
    "    cols = [col.text.strip() for col in cols]\n",
    "    if len(cols) >= 2:\n",
    "        name = cols[0]\n",
    "        term_of_office = cols[1]\n",
    "        if \"Finance Minister\" in term_of_office:\n",
    "            names.append(name)\n",
    "            terms_of_office.append(term_of_office)\n",
    "data = {\n",
    "    'Name': names,\n",
    "    'Term of Office': terms_of_office\n",
    "}\n",
    "\n",
    "df = pd.DataFrame(data)\n",
    "\n",
    "\n",
    "print(df)\n",
    "\n"
   ]
  },
  {
   "cell_type": "code",
   "execution_count": 6,
   "id": "c9590d04-128f-4331-b10c-308b5e1a9a35",
   "metadata": {},
   "outputs": [],
   "source": [
    "from bs4 import BeautifulSoup\n",
    "import requests\n",
    "import pandas as pd"
   ]
  },
  {
   "cell_type": "markdown",
   "id": "7d75a428-c104-46b5-bb82-7a36e697f0d9",
   "metadata": {},
   "source": [
    "ASSIGNMENT ON BEAUTIFUL SOUP"
   ]
  },
  {
   "cell_type": "markdown",
   "id": "2db243f9-4a4c-4039-8527-c45a9ef93e2a",
   "metadata": {},
   "source": [
    "1) Write a python program to display IMDB’s Top rated 100 Indian movies’ data\n",
    "https://www.imdb.com/list/ls056092300/ (i.e. name, rating, year ofrelease) and make data frame."
   ]
  },
  {
   "cell_type": "code",
   "execution_count": 8,
   "id": "fb78cae7-e3f0-46a9-af4a-8bd918891733",
   "metadata": {},
   "outputs": [
    {
     "name": "stdout",
     "output_type": "stream",
     "text": [
      "                                 Name  Rating Year of Release\n",
      "0                     Ship of Theseus     8.0            2012\n",
      "1                              Iruvar     8.4            1997\n",
      "2                     Kaagaz Ke Phool     7.8            1959\n",
      "3   Lagaan: Once Upon a Time in India     8.1            2001\n",
      "4                     Pather Panchali     8.2            1955\n",
      "..                                ...     ...             ...\n",
      "95                        Apur Sansar     8.5            1959\n",
      "96                        Kanchivaram     8.2            2008\n",
      "97                    Monsoon Wedding     7.3            2001\n",
      "98                              Black     8.1            2005\n",
      "99                            Deewaar     8.0            1975\n",
      "\n",
      "[100 rows x 3 columns]\n"
     ]
    }
   ],
   "source": [
    "url = \"https://www.imdb.com/list/ls056092300/\"\n",
    "response = requests.get(url)\n",
    "soup = BeautifulSoup(response.text, \"html\")\n",
    "movie_containers = soup.find_all('div', class_='lister-item-content')\n",
    "names = []\n",
    "ratings = []\n",
    "years = []\n",
    "for container in movie_containers:\n",
    "    name = container.h3.a.text.strip()\n",
    "    names.append(name)\n",
    "    rating = container.find('span', class_='ipl-rating-star__rating').text.strip()\n",
    "    ratings.append(float(rating))\n",
    "    year = container.find('span', class_='lister-item-year').text.strip('()')\n",
    "    years.append(year)\n",
    "df= pd.DataFrame({\n",
    "    'Name': names,\n",
    "    'Rating': ratings,\n",
    "    'Year of Release': years\n",
    "})\n",
    "print(df)"
   ]
  },
  {
   "cell_type": "code",
   "execution_count": null,
   "id": "4b351827-97f1-4f28-8853-6a677e6de040",
   "metadata": {},
   "outputs": [],
   "source": [
    "2) Write a python program to scrape product name, price and discounts from\n",
    "https://peachmode.com/search?q=bags"
   ]
  },
  {
   "cell_type": "code",
   "execution_count": 19,
   "id": "8ebe396d-ab2c-4e3c-944f-7d4551b7df99",
   "metadata": {},
   "outputs": [
    {
     "name": "stdout",
     "output_type": "stream",
     "text": [
      "Name: []\n",
      "Price: []\n",
      "Discounts: []\n"
     ]
    }
   ],
   "source": [
    "url = \"https://peachmode.com/search?q=bags\"\n",
    "response = requests.get(url)\n",
    "soup = BeautifulSoup(response.text, \"html\")\n",
    "peachmode = soup.find_all('div', class_='product-block')\n",
    "name = []\n",
    "price = []\n",
    "discounts = []\n",
    "for peach in peachmode:\n",
    "    name = peachmode.find('span', class_='product-name').text.strip()\n",
    "    names.append(name)\n",
    "    prices = peachmode.find('span', class_='price').text.strip()\n",
    "    price.append(float(prices))\n",
    "    discount = peachmode.find('span', class_='offer-sec').text.strip('()')\n",
    "    discounts.append(discount)\n",
    "#df= pd.DataFrame({\n",
    "  #  'Name': name,\n",
    "   # 'price': price,\n",
    "    #'discounts': discounts\n",
    "#})\n",
    "# print(df)\n",
    "print(\"Name:\", name) \n",
    "print(\"Price:\", price)\n",
    "print(\"Discounts:\", discounts)"
   ]
  },
  {
   "cell_type": "markdown",
   "id": "a08e4926-4e7f-4098-b7f5-2fa4551ab83d",
   "metadata": {},
   "source": [
    "3) Write a python program to scrape cricket rankings from icc-cricket.com. You have to scrape:\n",
    "a) Top 10 ODI teams in men’s cricket along with the records for matches, points and rating.\n",
    "b) Top 10 ODI Batsmen along with the records of their team and rating.\n",
    "c) Top 10 ODI bowlers along with the records of their team and rating."
   ]
  },
  {
   "cell_type": "code",
   "execution_count": null,
   "id": "53428db7-ee58-4b2e-aa27-c2a3b2beca75",
   "metadata": {},
   "outputs": [],
   "source": [
    "4) Write a python program to scrape details of all the posts from https://www.patreon.com/coreyms .Scrape the\n",
    "heading, date, content and the likes for the video from the link for the youtube video from the post."
   ]
  },
  {
   "cell_type": "code",
   "execution_count": 66,
   "id": "79c8c574-a328-494f-a279-5a11c7c47d37",
   "metadata": {},
   "outputs": [],
   "source": [
    "from bs4 import BeautifulSoup\n",
    "import requests\n",
    "\n",
    "url = \"https://www.patreon.com/coreyms\"\n",
    "response = requests.get(url)\n",
    "soup = BeautifulSoup(response.text, \"html\")\n",
    "for post in posts:\n",
    "    heading = post.find('h4', class_='post-card__title').text.strip()\n",
    "    date = post.find('time')\n",
    "    content = post.find('div', class_='post-card__excerpt').text.strip()\n",
    "    print(\"Heading:\", heading)\n",
    "    print(\"Date:\", date)\n",
    "    print(\"Content:\", content)\n",
    "          \n"
   ]
  },
  {
   "cell_type": "markdown",
   "id": "6a359ec5-1dca-4c40-aa2b-1136a6453adf",
   "metadata": {},
   "source": [
    "5) Write a python program to scrape house details from mentioned URL. It should include house title, location,\n",
    "area, EMI and price from https://www.nobroker.in/ .Enter three localities which are Indira Nagar, Jayanagar,\n",
    "Rajaji Nagar"
   ]
  },
  {
   "cell_type": "code",
   "execution_count": 54,
   "id": "a76e55d7-8a2a-46d4-8778-6b6b860faeed",
   "metadata": {},
   "outputs": [],
   "source": [
    "url = \"https://www.nobroker.in/\"\n",
    "response = requests.get(url)\n",
    "soup = BeautifulSoup(response.text,\"html\")\n",
    "houses = soup.find_all('div', class_='card')\n",
    "for house in houses:\n",
    "    title = house.find('h2', class_='heading-6').text.strip()\n",
    "    location = house.find('div', class_='nb__2CMjv').text.strip()\n",
    "    area = house.find('div', class_='nb__3oNyC').text.strip()\n",
    "    emi = house.find('div', class_='font-semi-bold').text.strip()\n",
    "    price = house.find('div', class_='heading-7').text.strip()\n",
    "    print(\"Title:\", title)\n",
    "    print(\"Location:\", location)\n",
    "    print(\"Area:\", area)\n",
    "    print(\"EMI:\", emi)\n",
    "    print(\"Price:\", price)\n",
    "    print(\"------------\")\n",
    "  "
   ]
  },
  {
   "cell_type": "markdown",
   "id": "ed76208d-037c-4822-86ec-03867aaa725a",
   "metadata": {},
   "source": [
    "Write a python program to scrape first 10 product details which include product name , price , Image URL from\n",
    "https://www.bewakoof.com/bestseller?sort=popular ."
   ]
  },
  {
   "cell_type": "code",
   "execution_count": 52,
   "id": "2705ca72-876f-445b-a8e7-7aad114bca99",
   "metadata": {},
   "outputs": [
    {
     "name": "stdout",
     "output_type": "stream",
     "text": [
      "<Response [200]>\n",
      "Product Name: None\n",
      "Price: None\n",
      "Image URL: https://images.bewakoof.com/t640/women-s-blue-straight-cargo-pants-620014-1708329141-1.jpg\n",
      "------------\n",
      "Product Name: None\n",
      "Price: None\n",
      "Image URL: https://images.bewakoof.com/t640/women-s-black-straight-cargo-pants-620005-1708328865-1.jpg\n",
      "------------\n",
      "Product Name: None\n",
      "Price: None\n",
      "Image URL: https://images.bewakoof.com/t640/women-s-black-flared-cargo-track-pants-585687-1707221587-1.jpg\n",
      "------------\n",
      "Product Name: None\n",
      "Price: None\n",
      "Image URL: https://images.bewakoof.com/t640/women-s-brown-straight-cargo-pants-620020-1708328904-1.jpg\n",
      "------------\n",
      "Product Name: None\n",
      "Price: None\n",
      "Image URL: https://images.bewakoof.com/t640/women-aop-oversize-t-shirt-580341-1683887496-1.jpg\n",
      "------------\n",
      "Product Name: None\n",
      "Price: None\n",
      "Image URL: https://images.bewakoof.com/t640/women-s-white-oversized-t-shirt-584434-1684230405-1.jpg\n",
      "------------\n",
      "Product Name: None\n",
      "Price: None\n",
      "Image URL: https://images.bewakoof.com/t640/women-aop-oversized-t-shirt-11-582004-1685446587-1.jpg\n",
      "------------\n",
      "Product Name: None\n",
      "Price: None\n",
      "Image URL: https://images.bewakoof.com/t640/women-aop-oversize-t-shirt-3-580366-1682421809-1.JPG\n",
      "------------\n",
      "Product Name: None\n",
      "Price: None\n",
      "Image URL: https://images.bewakoof.com/t640/women-white-printed-top-26-582038-1689082446-1.jpg\n",
      "------------\n",
      "Product Name: None\n",
      "Price: None\n",
      "Image URL: https://images.bewakoof.com/t640/women-s-pink-white-camo-printed-oversized-t-shirt-580369-1686301190-1.jpg\n",
      "------------\n"
     ]
    }
   ],
   "source": [
    "url = \"https://www.bewakoof.com/bestseller?sort=popular\"\n",
    "response = requests.get(url)\n",
    "\n",
    "print(response)\n",
    "soup = BeautifulSoup(response.content, 'html')\n",
    "products = soup.find_all('div', class_='productCardBox')\n",
    "for product in products:\n",
    "            product_name = product.find('h3', class_='clr-shade4 h3-p-name   undefined false  ')\n",
    "            price = product.find('span', class_='product-discountedPrice')\n",
    "            image_url = product.find('img')['src']\n",
    "            \n",
    "            print(\"Product Name:\", product_name)\n",
    "            print(\"Price:\", price)\n",
    "            print(\"Image URL:\", image_url)\n",
    "            print(\"------------\")"
   ]
  },
  {
   "cell_type": "markdown",
   "id": "31fc2a63-6dec-45ed-94fe-4f6cb6f17344",
   "metadata": {},
   "source": [
    "7) Please visit https://www.cnbc.com/world/?region=world and scrap\n",
    "a)  headings\n",
    "b) date\n",
    "c) News link"
   ]
  },
  {
   "cell_type": "code",
   "execution_count": 63,
   "id": "49d0eb54-57b2-4750-9ac3-efa82e7af43b",
   "metadata": {},
   "outputs": [
    {
     "name": "stdout",
     "output_type": "stream",
     "text": [
      "Heading: <div class=\"RiverHeadline-headline RiverHeadline-hasThumbnail\"><a href=\"https://www.cnbc.com/2024/04/24/kering-shares-sink-9percent-after-profit-warning-on-declining-gucci-sales.html\">Kering shares sink 9% after profit warning on declining Gucci sales</a></div>\n",
      "date: <built-in function print>\n",
      "link: https://www.cnbc.com/2024/04/24/kering-shares-sink-9percent-after-profit-warning-on-declining-gucci-sales.html\n",
      "Heading: <div class=\"RiverHeadline-headline RiverHeadline-hasThumbnail\"><a class=\"ProPill-proPillLink\" data-type=\"pro-button\" href=\"/pro/\"><svg alt=\"CNBC Pro\" class=\"ProPill-proPill\" height=\"16\" viewbox=\"0 0 43 22\"><rect fill=\"#047E2E\" height=\"100%\" width=\"100%\"></rect><path d=\"M9.08 15V6.6H12.392C14.36 6.6 15.584 7.716 15.584 9.408V9.432C15.584 11.316 14.072 12.3 12.224 12.3H10.556V15H9.08ZM10.556 10.968H12.272C13.388 10.968 14.084 10.344 14.084 9.468V9.444C14.084 8.46 13.376 7.944 12.272 7.944H10.556V10.968ZM17.0956 15V6.6H20.8396C21.8956 6.6 22.7236 6.912 23.2636 7.44C23.7076 7.896 23.9596 8.52 23.9596 9.252V9.276C23.9596 10.656 23.1316 11.484 21.9676 11.82L24.2356 15H22.4836L20.4196 12.072H18.5716V15H17.0956ZM18.5716 10.764H20.7316C21.7876 10.764 22.4596 10.212 22.4596 9.36V9.336C22.4596 8.436 21.8116 7.944 20.7196 7.944H18.5716V10.764ZM29.7755 15.144C27.1955 15.144 25.3955 13.188 25.3955 10.824V10.8C25.3955 8.436 27.2195 6.456 29.7995 6.456C32.3795 6.456 34.1795 8.412 34.1795 10.776V10.8C34.1795 13.164 32.3555 15.144 29.7755 15.144ZM29.7995 13.776C31.4675 13.776 32.6315 12.456 32.6315 10.824V10.8C32.6315 9.168 31.4435 7.812 29.7755 7.812C28.1075 7.812 26.9435 9.144 26.9435 10.776V10.8C26.9435 12.432 28.1315 13.776 29.7995 13.776Z\" fill=\"white\"></path></svg></a><a href=\"https://www.cnbc.com/2024/04/24/morgan-stanley-says-these-3-global-stocks-will-benefit-from-intels-new-ai-chip.html\">Forget Nvidia: Morgan Stanley says Intel's much-hyped AI chip will boost 3 global stocks</a></div>\n",
      "date: <built-in function print>\n",
      "link: /pro/\n",
      "Heading: <div class=\"RiverHeadline-headline RiverHeadline-hasThumbnail\"><a href=\"https://www.cnbc.com/2024/04/24/us-seeks-36-month-sentence-for-ex-binance-ceo-changpeng-zhao.html\">U.S. prosecutors seek 36-month sentence for ex-Binance CEO Changpeng Zhao</a></div>\n",
      "date: <built-in function print>\n",
      "link: https://www.cnbc.com/2024/04/24/us-seeks-36-month-sentence-for-ex-binance-ceo-changpeng-zhao.html\n",
      "Heading: <div class=\"RiverHeadline-headline RiverHeadline-hasThumbnail\"><a href=\"https://www.cnbc.com/2024/04/24/volvo-cars-core-operating-profits-rise-in-first-quarter-on-higher-retail-sales.html\">Volvo Cars shares down 8% as first-quarter revenues fall</a></div>\n",
      "date: <built-in function print>\n",
      "link: https://www.cnbc.com/2024/04/24/volvo-cars-core-operating-profits-rise-in-first-quarter-on-higher-retail-sales.html\n",
      "Heading: <div class=\"RiverHeadline-headline RiverHeadline-hasThumbnail\"><svg alt=\"Watch Live\" class=\"LivePill-watchLivePill\" height=\"16\" viewbox=\"0 0 57 22\"><rect fill=\"#FF5053\" height=\"100%\" width=\"100%\"></rect><path d=\"M12.9997 13.3192C14.2805 13.3192 15.3188 12.281 15.3188 11.0004C15.3188 9.71979 14.2805 8.68164 12.9997 8.68164C11.7189 8.68164 10.6807 9.71979 10.6807 11.0004C10.6807 12.281 11.7189 13.3192 12.9997 13.3192Z\" fill=\"white\"></path><path d=\"M8 11C8 13.7616 10.2387 16 13 16C15.7613 16 18 13.7616 18 11C18 8.23843 15.7613 6 13 6C10.2387 6 8 8.23843 8 11ZM17.2766 10.9997C17.2766 13.3606 15.3622 15.2748 13.0004 15.2748C10.6385 15.2748 8.72412 13.3606 8.72412 10.9997C8.72412 8.63877 10.6385 6.72461 13.0004 6.72461C15.3622 6.72461 17.2766 8.63877 17.2766 10.9997Z\" fill=\"white\"></path><path d=\"M22.08 15V6.6H23.556V13.656H27.972V15H22.08ZM29.3437 15V6.6H30.8197V15H29.3437ZM35.5903 15.06L32.0983 6.6H33.7303L36.2623 13.056L38.7823 6.6H40.3783L36.8983 15.06H35.5903ZM41.5683 15V6.6H47.7963V7.92H43.0443V10.104H47.2563V11.424H43.0443V13.68H47.8563V15H41.5683Z\" fill=\"white\"></path></svg><a href=\"https://www.cnbc.com/2024/04/24/ukraine-war-live-updates-latest-news-on-russia-and-the-war-in-ukraine.html\">Relief in Kyiv as Biden set to sign U.S. aid package; Russian defense official arrested on bribery charges</a></div>\n",
      "date: <built-in function print>\n",
      "link: https://www.cnbc.com/2024/04/24/ukraine-war-live-updates-latest-news-on-russia-and-the-war-in-ukraine.html\n",
      "Heading: <div class=\"RiverHeadline-headline RiverHeadline-hasThumbnail\"><a class=\"ProPill-proPillLink\" data-type=\"pro-button\" href=\"/pro/\"><svg alt=\"CNBC Pro\" class=\"ProPill-proPill\" height=\"16\" viewbox=\"0 0 43 22\"><rect fill=\"#047E2E\" height=\"100%\" width=\"100%\"></rect><path d=\"M9.08 15V6.6H12.392C14.36 6.6 15.584 7.716 15.584 9.408V9.432C15.584 11.316 14.072 12.3 12.224 12.3H10.556V15H9.08ZM10.556 10.968H12.272C13.388 10.968 14.084 10.344 14.084 9.468V9.444C14.084 8.46 13.376 7.944 12.272 7.944H10.556V10.968ZM17.0956 15V6.6H20.8396C21.8956 6.6 22.7236 6.912 23.2636 7.44C23.7076 7.896 23.9596 8.52 23.9596 9.252V9.276C23.9596 10.656 23.1316 11.484 21.9676 11.82L24.2356 15H22.4836L20.4196 12.072H18.5716V15H17.0956ZM18.5716 10.764H20.7316C21.7876 10.764 22.4596 10.212 22.4596 9.36V9.336C22.4596 8.436 21.8116 7.944 20.7196 7.944H18.5716V10.764ZM29.7755 15.144C27.1955 15.144 25.3955 13.188 25.3955 10.824V10.8C25.3955 8.436 27.2195 6.456 29.7995 6.456C32.3795 6.456 34.1795 8.412 34.1795 10.776V10.8C34.1795 13.164 32.3555 15.144 29.7755 15.144ZM29.7995 13.776C31.4675 13.776 32.6315 12.456 32.6315 10.824V10.8C32.6315 9.168 31.4435 7.812 29.7755 7.812C28.1075 7.812 26.9435 9.144 26.9435 10.776V10.8C26.9435 12.432 28.1315 13.776 29.7995 13.776Z\" fill=\"white\"></path></svg></a><a href=\"https://www.cnbc.com/2024/04/24/when-tesla-shares-rise-these-7-stocks-have-tended-to-rise-too-according-to-recent-history.html\">When Tesla shares rise — these 7 stocks have tended to rise too, according to recent history</a></div>\n",
      "date: <built-in function print>\n",
      "link: /pro/\n",
      "Heading: <div class=\"RiverHeadline-headline RiverHeadline-hasThumbnail\"><a class=\"ProPill-proPillLink\" data-type=\"pro-button\" href=\"/pro/\"><svg alt=\"CNBC Pro\" class=\"ProPill-proPill\" height=\"16\" viewbox=\"0 0 43 22\"><rect fill=\"#047E2E\" height=\"100%\" width=\"100%\"></rect><path d=\"M9.08 15V6.6H12.392C14.36 6.6 15.584 7.716 15.584 9.408V9.432C15.584 11.316 14.072 12.3 12.224 12.3H10.556V15H9.08ZM10.556 10.968H12.272C13.388 10.968 14.084 10.344 14.084 9.468V9.444C14.084 8.46 13.376 7.944 12.272 7.944H10.556V10.968ZM17.0956 15V6.6H20.8396C21.8956 6.6 22.7236 6.912 23.2636 7.44C23.7076 7.896 23.9596 8.52 23.9596 9.252V9.276C23.9596 10.656 23.1316 11.484 21.9676 11.82L24.2356 15H22.4836L20.4196 12.072H18.5716V15H17.0956ZM18.5716 10.764H20.7316C21.7876 10.764 22.4596 10.212 22.4596 9.36V9.336C22.4596 8.436 21.8116 7.944 20.7196 7.944H18.5716V10.764ZM29.7755 15.144C27.1955 15.144 25.3955 13.188 25.3955 10.824V10.8C25.3955 8.436 27.2195 6.456 29.7995 6.456C32.3795 6.456 34.1795 8.412 34.1795 10.776V10.8C34.1795 13.164 32.3555 15.144 29.7755 15.144ZM29.7995 13.776C31.4675 13.776 32.6315 12.456 32.6315 10.824V10.8C32.6315 9.168 31.4435 7.812 29.7755 7.812C28.1075 7.812 26.9435 9.144 26.9435 10.776V10.8C26.9435 12.432 28.1315 13.776 29.7995 13.776Z\" fill=\"white\"></path></svg></a><a href=\"https://www.cnbc.com/2024/04/24/buy-gold-copper-stocks-to-ride-ai-china-demand-more-fund-managers.html\">Buy these gold and copper stocks to ride AI, China demand and more, say fund managers</a></div>\n",
      "date: <built-in function print>\n",
      "link: /pro/\n",
      "Heading: <div class=\"RiverHeadline-headline RiverHeadline-hasThumbnail\"><a href=\"https://www.cnbc.com/2024/04/23/tesla-tsla-earnings-q1-2024-.html\">Tesla shares jump after Musk says company aims to start producing affordable new EV by early 2025 </a></div>\n",
      "date: <built-in function print>\n",
      "link: https://www.cnbc.com/2024/04/23/tesla-tsla-earnings-q1-2024-.html\n",
      "Heading: <div class=\"RiverHeadline-headline RiverHeadline-hasThumbnail\"><a href=\"https://www.cnbc.com/2024/04/24/indonesias-central-bank-delivers-surprise-rate-hike-to-support-rupiah.html\">Indonesia's central bank delivers surprise rate hike to support rupiah</a></div>\n",
      "date: <built-in function print>\n",
      "link: https://www.cnbc.com/2024/04/24/indonesias-central-bank-delivers-surprise-rate-hike-to-support-rupiah.html\n",
      "Heading: <div class=\"RiverHeadline-headline RiverHeadline-hasThumbnail\"><a href=\"https://www.cnbc.com/2024/04/24/amazon-cto-on-opening-southeast-asia-cloud-regions.html\">Amazon is opening cloud regions in Southeast Asia to meet customer demand, CTO says</a></div>\n",
      "date: <built-in function print>\n",
      "link: https://www.cnbc.com/2024/04/24/amazon-cto-on-opening-southeast-asia-cloud-regions.html\n",
      "Heading: <div class=\"RiverHeadline-headline RiverHeadline-hasThumbnail\"><a href=\"https://www.cnbc.com/2024/04/24/china-may-have-to-brace-for-a-new-wave-of-bond-defaults-sp-says.html\">China may have to brace for a new wave of bond defaults, S&amp;P says</a></div>\n",
      "date: <built-in function print>\n",
      "link: https://www.cnbc.com/2024/04/24/china-may-have-to-brace-for-a-new-wave-of-bond-defaults-sp-says.html\n",
      "Heading: <div class=\"RiverHeadline-headline RiverHeadline-hasThumbnail\"><a href=\"https://www.cnbc.com/2024/04/24/photos-show-sahara-dust-turn-athens-orange.html\">Photos show Sahara dust turn Athens orange</a></div>\n",
      "date: <built-in function print>\n",
      "link: https://www.cnbc.com/2024/04/24/photos-show-sahara-dust-turn-athens-orange.html\n",
      "Heading: <div class=\"RiverHeadline-headline RiverHeadline-hasThumbnail\"><a href=\"https://www.cnbc.com/2024/04/24/ceo-of-norways-wealth-fund-issues-warning-over-hot-commodity-markets.html\">‘A real wildcard’: World’s largest wealth fund issues inflation warning on hot commodity markets</a></div>\n",
      "date: <built-in function print>\n",
      "link: https://www.cnbc.com/2024/04/24/ceo-of-norways-wealth-fund-issues-warning-over-hot-commodity-markets.html\n",
      "Heading: <div class=\"RiverHeadline-headline RiverHeadline-hasThumbnail\"><a href=\"https://www.cnbc.com/2024/04/24/swiss-pharma-giant-roches-first-quarter-sales-edge-higher-as-its-emerges-from-post-covid-19-slump.html\">Swiss pharma giant Roche's first-quarter sales edge higher as its emerges from post-Covid-19 slump</a></div>\n",
      "date: <built-in function print>\n",
      "link: https://www.cnbc.com/2024/04/24/swiss-pharma-giant-roches-first-quarter-sales-edge-higher-as-its-emerges-from-post-covid-19-slump.html\n",
      "Heading: <div class=\"RiverHeadline-headline RiverHeadline-hasThumbnail\"><a href=\"https://www.cnbc.com/2024/04/24/sensetime-shares-soar-after-announcing-sensenova-5point0-generative-ai-model.html\">SenseTime shares soar more than 30% after announcing its latest generative AI model</a></div>\n",
      "date: <built-in function print>\n",
      "link: https://www.cnbc.com/2024/04/24/sensetime-shares-soar-after-announcing-sensenova-5point0-generative-ai-model.html\n",
      "Heading: <div class=\"RiverHeadline-headline RiverHeadline-hasThumbnail\"><a href=\"https://www.cnbc.com/2024/04/24/chinas-xiaomi-is-selling-so-many-electric-cars-its-closer-to-breaking-even.html\">China's Xiaomi is selling more EVs than expected, raising hopes it can break even sooner</a></div>\n",
      "date: <built-in function print>\n",
      "link: https://www.cnbc.com/2024/04/24/chinas-xiaomi-is-selling-so-many-electric-cars-its-closer-to-breaking-even.html\n",
      "Heading: <div class=\"RiverHeadline-headline RiverHeadline-hasThumbnail\"><a href=\"https://www.cnbc.com/2024/04/24/bank-of-america-not-bullish-on-asian-currencies-cites-chaotic-era.html\">'Chaotic era' for Asian currencies: Bank of America is not bullish on any of them </a></div>\n",
      "date: <built-in function print>\n",
      "link: https://www.cnbc.com/2024/04/24/bank-of-america-not-bullish-on-asian-currencies-cites-chaotic-era.html\n",
      "Heading: <div class=\"RiverHeadline-headline RiverHeadline-hasThumbnail\"><a href=\"https://www.cnbc.com/2024/04/24/elon-musk-teslas-entry-into-india-ev-market-is-good-news-mg-motor-india-.html\">Tesla’s entry into India’s EV market will be 'good news’ for the country, says MG Motor India</a></div>\n",
      "date: <built-in function print>\n",
      "link: https://www.cnbc.com/2024/04/24/elon-musk-teslas-entry-into-india-ev-market-is-good-news-mg-motor-india-.html\n"
     ]
    }
   ],
   "source": [
    "url = \"https://www.cnbc.com/world/?region=world\"\n",
    "response = requests.get(url)\n",
    "soup= BeautifulSoup(response.text,\"html\")\n",
    "articles = soup.find_all(\"div\", class_= \"RiverPlusCard-container\")\n",
    "for article in articles:\n",
    "    heading = article.find(\"div\", class_=\"RiverHeadline-headline RiverHeadline-hasThumbnail\")\n",
    "    date = article.find('span', class_='Card-time')\n",
    "    link = article.find('a')['href']\n",
    "    print(\"Heading:\", heading)\n",
    "    print(\"date:\", print)\n",
    "    print(\"link:\", link)"
   ]
  },
  {
   "cell_type": "markdown",
   "id": "d9fef660-d20e-4111-8889-47008a5e6386",
   "metadata": {},
   "source": [
    "8) Please visit https://www.keaipublishing.com/en/journals/artificial-intelligence-in-agriculture/most-downloadedarticles/ and scrap-\n",
    " a) Paper title\n",
    " b) date\n",
    " c) Author"
   ]
  },
  {
   "cell_type": "code",
   "execution_count": 68,
   "id": "ca5930f5-ce4f-4551-90e0-8cd1d15b1a8a",
   "metadata": {},
   "outputs": [
    {
     "name": "stdout",
     "output_type": "stream",
     "text": [
      "<Response [404]>\n"
     ]
    }
   ],
   "source": [
    "url = \"https://www.keaipublishing.com/en/journals/artificial-intelligence-in-agriculture/most-downloadedarticles/\"\n",
    "response = requests.get(url)\n",
    "print(response)"
   ]
  },
  {
   "cell_type": "code",
   "execution_count": null,
   "id": "051e9ed5-e561-4e03-a492-7b662077195f",
   "metadata": {},
   "outputs": [],
   "source": []
  },
  {
   "cell_type": "code",
   "execution_count": null,
   "id": "bf2b5056-e9d5-4a37-aa47-c3d94744392a",
   "metadata": {},
   "outputs": [],
   "source": []
  },
  {
   "cell_type": "code",
   "execution_count": null,
   "id": "02d6a962-7646-40c2-90c6-38454f7fdab3",
   "metadata": {},
   "outputs": [],
   "source": []
  }
 ],
 "metadata": {
  "kernelspec": {
   "display_name": "Python 3 (ipykernel)",
   "language": "python",
   "name": "python3"
  },
  "language_info": {
   "codemirror_mode": {
    "name": "ipython",
    "version": 3
   },
   "file_extension": ".py",
   "mimetype": "text/x-python",
   "name": "python",
   "nbconvert_exporter": "python",
   "pygments_lexer": "ipython3",
   "version": "3.11.7"
  }
 },
 "nbformat": 4,
 "nbformat_minor": 5
}
