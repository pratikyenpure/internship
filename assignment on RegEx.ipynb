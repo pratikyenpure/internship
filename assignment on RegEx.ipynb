{
 "cells": [
  {
   "cell_type": "markdown",
   "id": "b7546f3a-40df-4f32-808d-32bd68df2735",
   "metadata": {},
   "source": [
    "REGEX ASSIGNMENT "
   ]
  },
  {
   "cell_type": "code",
   "execution_count": 3,
   "id": "d2e27bb6-72be-40a2-a66c-3ec2c0ef70ea",
   "metadata": {},
   "outputs": [],
   "source": [
    "import pandas as pd\n",
    "import re"
   ]
  },
  {
   "cell_type": "markdown",
   "id": "961c3ea0-faf1-4a45-8832-8790a210adad",
   "metadata": {},
   "source": [
    "Question 1- Write a Python program to replace all occurrences of a space, comma, or dot with a colon.\n",
    "Sample Text- 'Python Exercises, PHP exercises.'\n",
    "Expected Output: Python:Exercises::PHP:exercises:\n"
   ]
  },
  {
   "cell_type": "code",
   "execution_count": 4,
   "id": "c1456d7c-5ec5-4baf-b569-0234e0df1cec",
   "metadata": {},
   "outputs": [
    {
     "data": {
      "text/plain": [
       "'Python:Exercises::PHP:exercises:'"
      ]
     },
     "execution_count": 4,
     "metadata": {},
     "output_type": "execute_result"
    }
   ],
   "source": [
    "string =\"Python Exercises, PHP exercises.\"\n",
    "re.sub(r\"[ ,.]\",\":\",string)"
   ]
  },
  {
   "cell_type": "markdown",
   "id": "7e1007d6-53cf-436d-b7d9-e5ef370d7606",
   "metadata": {},
   "source": [
    "Question 2-  Create a dataframe using the dictionary below and remove everything (commas (,), !, XXXX, ;, etc.) from the columns except words.\n",
    "Dictionary- {'SUMMARY' : ['hello, world!', 'XXXXX test', '123four, five:; six...']}\n",
    "Expected output-\n",
    "0      hello world\n",
    "1             test\n",
    "2    four five six\n"
   ]
  },
  {
   "cell_type": "code",
   "execution_count": 8,
   "id": "fe100c01-a699-47ef-a05a-0298265c8737",
   "metadata": {},
   "outputs": [
    {
     "name": "stdout",
     "output_type": "stream",
     "text": [
      "            SUMMARY\n",
      "0       hello world\n",
      "1        XXXXX test\n",
      "2  123four five six\n"
     ]
    }
   ],
   "source": [
    "data = {'SUMMARY': ['hello, world!', 'XXXXX test', '123four, five:; six...']}\n",
    "def remove_non_words(text):\n",
    "    return re.sub(r'[^\\w\\s]', '', text)\n",
    "df['SUMMARY'] = df['SUMMARY'].apply(remove_non_words)\n",
    "\n",
    "print(df)"
   ]
  },
  {
   "cell_type": "markdown",
   "id": "90beeb03-2948-4605-b999-28bdca5aa95d",
   "metadata": {},
   "source": [
    "Question 3- Create a function in python to find all words that are at least 4 characters long in a string. The use of the re.compile() method is mandatory.\n",
    "\n"
   ]
  },
  {
   "cell_type": "code",
   "execution_count": 21,
   "id": "40fb29b6-007b-4cc9-88a9-25edcf1b759f",
   "metadata": {},
   "outputs": [
    {
     "data": {
      "text/plain": [
       "['India', 'country', 'with', 'people', 'from', 'diffrent', 'religions']"
      ]
     },
     "execution_count": 21,
     "metadata": {},
     "output_type": "execute_result"
    }
   ],
   "source": [
    "pattern = re.compile(r\"\\w{4,}+\")\n",
    "string = \"India is the country with people from diffrent religions\"\n",
    "pattern.findall(string)"
   ]
  },
  {
   "cell_type": "markdown",
   "id": "8a430bf9-05ac-43c4-8b62-2793356dfc60",
   "metadata": {},
   "source": [
    "Question 4- Create a function in python to find all three, four, and five character words in a string. The use of the re.compile() method is mandatory.\n",
    "\n"
   ]
  },
  {
   "cell_type": "code",
   "execution_count": 26,
   "id": "cf12c0b5-c10f-4c4f-b85e-e9e05a74aafd",
   "metadata": {},
   "outputs": [
    {
     "data": {
      "text/plain": [
       "['India',\n",
       " 'the',\n",
       " 'count',\n",
       " 'with',\n",
       " 'peopl',\n",
       " 'from',\n",
       " 'diffr',\n",
       " 'ent',\n",
       " 'relig',\n",
       " 'ions']"
      ]
     },
     "execution_count": 26,
     "metadata": {},
     "output_type": "execute_result"
    }
   ],
   "source": [
    "pattern = re.compile(r\"\\w{3,5}+\")\n",
    "string = \"India is the country with people from diffrent religions\"\n",
    "pattern.findall(string)"
   ]
  },
  {
   "cell_type": "markdown",
   "id": "657f2771-acc2-4967-b7e6-c3463b6d91a5",
   "metadata": {},
   "source": [
    "Question 5- Create a function in Python to remove the parenthesis in a list of strings. The use of the re.compile() method is mandatory.\n",
    "Sample Text: [\"example (.com)\", \"hr@fliprobo (.com)\", \"github (.com)\", \"Hello (Data Science World)\", \"Data (Scientist)\"]\n",
    "Expected Output:\n",
    "example.com\n",
    "hr@fliprobo.com\n",
    "github.com\n",
    "Hello Data Science World\n",
    "Data Scientist\n"
   ]
  },
  {
   "cell_type": "code",
   "execution_count": 53,
   "id": "9f608213-58ad-430a-bdfa-c6b5e34f4e0f",
   "metadata": {},
   "outputs": [
    {
     "name": "stdout",
     "output_type": "stream",
     "text": [
      "example\n"
     ]
    }
   ],
   "source": [
    "pattern = re.compile(r\"\\s*\\((.\\w*?)\\)\")\n",
    "string1 = \"example (.com)\"\n",
    "string2 = \"hr@fliprobo (.com)\"\n",
    "string3 = \"github (.com)\"\n",
    "string4 = \"Hello (Data Science World)\"\n",
    "string5 = \"Data (Scientist)\"\n",
    "a= pattern.sub(\"\", string1)\n",
    "print(a)\n"
   ]
  },
  {
   "cell_type": "markdown",
   "id": "ec0364aa-97d5-4c53-892b-c4e9c5097c24",
   "metadata": {},
   "source": [
    "Question 6- Write a python program to remove the parenthesis area from the text stored in the text file using Regular Expression.\n",
    "Sample Text: [\"example (.com)\", \"hr@fliprobo (.com)\", \"github (.com)\", \"Hello (Data Science World)\", \"Data (Scientist)\"]\n",
    "Expected Output: [\"example\", \"hr@fliprobo\", \"github\", \"Hello\", \"Data\"]\n",
    "Note- Store given sample text in the text file and then to remove the parenthesis area from the text\n"
   ]
  },
  {
   "cell_type": "code",
   "execution_count": 1,
   "id": "cd988fc4-7515-4acf-86bc-8b416d329482",
   "metadata": {},
   "outputs": [],
   "source": [
    "import re"
   ]
  },
  {
   "cell_type": "markdown",
   "id": "73a1fadd-fcc7-4594-9ec8-99c30758d36f",
   "metadata": {},
   "source": [
    "Question 7- Write a regular expression in Python to split a string into uppercase letters.\n",
    "Sample text: “ImportanceOfRegularExpressionsInPython”\n",
    "Expected Output: [‘Importance’, ‘Of’, ‘Regular’, ‘Expression’, ‘In’, ‘Python’]\n"
   ]
  },
  {
   "cell_type": "code",
   "execution_count": 54,
   "id": "61193b3c-bf04-4d82-ae8d-de27f839c64c",
   "metadata": {},
   "outputs": [
    {
     "name": "stdout",
     "output_type": "stream",
     "text": [
      "['Importance', 'Of', 'Regular', 'Expressions', 'In', 'Python']\n"
     ]
    }
   ],
   "source": [
    "string = \"ImportanceOfRegularExpressionsInPython\"\n",
    "max = re.findall(r\"[A-Z][a-z]+\",string)\n",
    "print(max)\n",
    "  \n",
    "    \n"
   ]
  },
  {
   "cell_type": "markdown",
   "id": "a30f4f69-7d57-4934-9f28-cded01a62e6f",
   "metadata": {},
   "source": [
    "Question 8- Create a function in python to insert spaces between words starting with numbers.\n",
    "Sample Text: “RegularExpression1IsAn2ImportantTopic3InPython\"\n",
    "Expected Output: RegularExpression 1IsAn 2ImportantTopic 3InPython\n"
   ]
  },
  {
   "cell_type": "code",
   "execution_count": 64,
   "id": "1d845c6a-9d66-44c3-9ece-32161a5e1a50",
   "metadata": {},
   "outputs": [
    {
     "name": "stdout",
     "output_type": "stream",
     "text": [
      "RegularExpression 1IsAn 2ImportantTopic 3InPython\n"
     ]
    }
   ],
   "source": [
    "string = \"RegularExpression1IsAn2ImportantTopic3InPython\"\n",
    "space = re.sub(r\"(\\d)([A-Za-z])\",r\" \\1\\2\", string)\n",
    "print(space)"
   ]
  },
  {
   "cell_type": "markdown",
   "id": "22d38f71-b6f8-4334-b9a4-74841547a2fa",
   "metadata": {},
   "source": [
    "Question 9- Create a function in python to insert spaces between words starting with capital letters or with numbers.\n",
    "Sample Text: “RegularExpression1IsAn2ImportantTopic3InPython\"\n",
    "Expected Output:  RegularExpression 1 IsAn 2 ImportantTopic 3 InPython\n"
   ]
  },
  {
   "cell_type": "code",
   "execution_count": 65,
   "id": "523b8987-d5a9-4a8e-be04-2aa5fddf640d",
   "metadata": {},
   "outputs": [
    {
     "name": "stdout",
     "output_type": "stream",
     "text": [
      "RegularExpression 1 IsAn 2 ImportantTopic 3 InPython\n"
     ]
    }
   ],
   "source": [
    "string = \"RegularExpression1IsAn2ImportantTopic3InPython\"\n",
    "space = re.sub(r\"(\\d)([A-Za-z])\",r\" \\1 \\2\" , string)\n",
    "print(space)"
   ]
  },
  {
   "cell_type": "markdown",
   "id": "5f61c899-083c-4554-a78a-b111d839bec5",
   "metadata": {},
   "source": [
    "Question 10- Use the github link below to read the data and create a dataframe. After creating the dataframe extract the first 6 letters of each country and store in the dataframe under a new column called first_five_letters.\n",
    "Github Link-  https://raw.githubusercontent.com/dsrscientist/DSData/master/happiness_score_dataset.csv\n",
    "\n"
   ]
  },
  {
   "cell_type": "code",
   "execution_count": 78,
   "id": "a6130f86-fb3b-4fa6-8997-eb98b2a8c148",
   "metadata": {},
   "outputs": [
    {
     "data": {
      "text/html": [
       "<div>\n",
       "<style scoped>\n",
       "    .dataframe tbody tr th:only-of-type {\n",
       "        vertical-align: middle;\n",
       "    }\n",
       "\n",
       "    .dataframe tbody tr th {\n",
       "        vertical-align: top;\n",
       "    }\n",
       "\n",
       "    .dataframe thead th {\n",
       "        text-align: right;\n",
       "    }\n",
       "</style>\n",
       "<table border=\"1\" class=\"dataframe\">\n",
       "  <thead>\n",
       "    <tr style=\"text-align: right;\">\n",
       "      <th></th>\n",
       "      <th>Country</th>\n",
       "      <th>Region</th>\n",
       "      <th>Happiness Rank</th>\n",
       "      <th>Happiness Score</th>\n",
       "      <th>Standard Error</th>\n",
       "      <th>Economy (GDP per Capita)</th>\n",
       "      <th>Family</th>\n",
       "      <th>Health (Life Expectancy)</th>\n",
       "      <th>Freedom</th>\n",
       "      <th>Trust (Government Corruption)</th>\n",
       "      <th>Generosity</th>\n",
       "      <th>Dystopia Residual</th>\n",
       "      <th>first_five_letters</th>\n",
       "    </tr>\n",
       "  </thead>\n",
       "  <tbody>\n",
       "    <tr>\n",
       "      <th>0</th>\n",
       "      <td>Switzerland</td>\n",
       "      <td>Western Europe</td>\n",
       "      <td>1</td>\n",
       "      <td>7.587</td>\n",
       "      <td>0.03411</td>\n",
       "      <td>1.39651</td>\n",
       "      <td>1.34951</td>\n",
       "      <td>0.94143</td>\n",
       "      <td>0.66557</td>\n",
       "      <td>0.41978</td>\n",
       "      <td>0.29678</td>\n",
       "      <td>2.51738</td>\n",
       "      <td>Switze</td>\n",
       "    </tr>\n",
       "    <tr>\n",
       "      <th>1</th>\n",
       "      <td>Iceland</td>\n",
       "      <td>Western Europe</td>\n",
       "      <td>2</td>\n",
       "      <td>7.561</td>\n",
       "      <td>0.04884</td>\n",
       "      <td>1.30232</td>\n",
       "      <td>1.40223</td>\n",
       "      <td>0.94784</td>\n",
       "      <td>0.62877</td>\n",
       "      <td>0.14145</td>\n",
       "      <td>0.43630</td>\n",
       "      <td>2.70201</td>\n",
       "      <td>Icelan</td>\n",
       "    </tr>\n",
       "    <tr>\n",
       "      <th>2</th>\n",
       "      <td>Denmark</td>\n",
       "      <td>Western Europe</td>\n",
       "      <td>3</td>\n",
       "      <td>7.527</td>\n",
       "      <td>0.03328</td>\n",
       "      <td>1.32548</td>\n",
       "      <td>1.36058</td>\n",
       "      <td>0.87464</td>\n",
       "      <td>0.64938</td>\n",
       "      <td>0.48357</td>\n",
       "      <td>0.34139</td>\n",
       "      <td>2.49204</td>\n",
       "      <td>Denmar</td>\n",
       "    </tr>\n",
       "    <tr>\n",
       "      <th>3</th>\n",
       "      <td>Norway</td>\n",
       "      <td>Western Europe</td>\n",
       "      <td>4</td>\n",
       "      <td>7.522</td>\n",
       "      <td>0.03880</td>\n",
       "      <td>1.45900</td>\n",
       "      <td>1.33095</td>\n",
       "      <td>0.88521</td>\n",
       "      <td>0.66973</td>\n",
       "      <td>0.36503</td>\n",
       "      <td>0.34699</td>\n",
       "      <td>2.46531</td>\n",
       "      <td>Norway</td>\n",
       "    </tr>\n",
       "    <tr>\n",
       "      <th>4</th>\n",
       "      <td>Canada</td>\n",
       "      <td>North America</td>\n",
       "      <td>5</td>\n",
       "      <td>7.427</td>\n",
       "      <td>0.03553</td>\n",
       "      <td>1.32629</td>\n",
       "      <td>1.32261</td>\n",
       "      <td>0.90563</td>\n",
       "      <td>0.63297</td>\n",
       "      <td>0.32957</td>\n",
       "      <td>0.45811</td>\n",
       "      <td>2.45176</td>\n",
       "      <td>Canada</td>\n",
       "    </tr>\n",
       "    <tr>\n",
       "      <th>...</th>\n",
       "      <td>...</td>\n",
       "      <td>...</td>\n",
       "      <td>...</td>\n",
       "      <td>...</td>\n",
       "      <td>...</td>\n",
       "      <td>...</td>\n",
       "      <td>...</td>\n",
       "      <td>...</td>\n",
       "      <td>...</td>\n",
       "      <td>...</td>\n",
       "      <td>...</td>\n",
       "      <td>...</td>\n",
       "      <td>...</td>\n",
       "    </tr>\n",
       "    <tr>\n",
       "      <th>153</th>\n",
       "      <td>Rwanda</td>\n",
       "      <td>Sub-Saharan Africa</td>\n",
       "      <td>154</td>\n",
       "      <td>3.465</td>\n",
       "      <td>0.03464</td>\n",
       "      <td>0.22208</td>\n",
       "      <td>0.77370</td>\n",
       "      <td>0.42864</td>\n",
       "      <td>0.59201</td>\n",
       "      <td>0.55191</td>\n",
       "      <td>0.22628</td>\n",
       "      <td>0.67042</td>\n",
       "      <td>Rwanda</td>\n",
       "    </tr>\n",
       "    <tr>\n",
       "      <th>154</th>\n",
       "      <td>Benin</td>\n",
       "      <td>Sub-Saharan Africa</td>\n",
       "      <td>155</td>\n",
       "      <td>3.340</td>\n",
       "      <td>0.03656</td>\n",
       "      <td>0.28665</td>\n",
       "      <td>0.35386</td>\n",
       "      <td>0.31910</td>\n",
       "      <td>0.48450</td>\n",
       "      <td>0.08010</td>\n",
       "      <td>0.18260</td>\n",
       "      <td>1.63328</td>\n",
       "      <td>Benin</td>\n",
       "    </tr>\n",
       "    <tr>\n",
       "      <th>155</th>\n",
       "      <td>Syria</td>\n",
       "      <td>Middle East and Northern Africa</td>\n",
       "      <td>156</td>\n",
       "      <td>3.006</td>\n",
       "      <td>0.05015</td>\n",
       "      <td>0.66320</td>\n",
       "      <td>0.47489</td>\n",
       "      <td>0.72193</td>\n",
       "      <td>0.15684</td>\n",
       "      <td>0.18906</td>\n",
       "      <td>0.47179</td>\n",
       "      <td>0.32858</td>\n",
       "      <td>Syria</td>\n",
       "    </tr>\n",
       "    <tr>\n",
       "      <th>156</th>\n",
       "      <td>Burundi</td>\n",
       "      <td>Sub-Saharan Africa</td>\n",
       "      <td>157</td>\n",
       "      <td>2.905</td>\n",
       "      <td>0.08658</td>\n",
       "      <td>0.01530</td>\n",
       "      <td>0.41587</td>\n",
       "      <td>0.22396</td>\n",
       "      <td>0.11850</td>\n",
       "      <td>0.10062</td>\n",
       "      <td>0.19727</td>\n",
       "      <td>1.83302</td>\n",
       "      <td>Burund</td>\n",
       "    </tr>\n",
       "    <tr>\n",
       "      <th>157</th>\n",
       "      <td>Togo</td>\n",
       "      <td>Sub-Saharan Africa</td>\n",
       "      <td>158</td>\n",
       "      <td>2.839</td>\n",
       "      <td>0.06727</td>\n",
       "      <td>0.20868</td>\n",
       "      <td>0.13995</td>\n",
       "      <td>0.28443</td>\n",
       "      <td>0.36453</td>\n",
       "      <td>0.10731</td>\n",
       "      <td>0.16681</td>\n",
       "      <td>1.56726</td>\n",
       "      <td>Togo</td>\n",
       "    </tr>\n",
       "  </tbody>\n",
       "</table>\n",
       "<p>158 rows × 13 columns</p>\n",
       "</div>"
      ],
      "text/plain": [
       "         Country                           Region  Happiness Rank  \\\n",
       "0    Switzerland                   Western Europe               1   \n",
       "1        Iceland                   Western Europe               2   \n",
       "2        Denmark                   Western Europe               3   \n",
       "3         Norway                   Western Europe               4   \n",
       "4         Canada                    North America               5   \n",
       "..           ...                              ...             ...   \n",
       "153       Rwanda               Sub-Saharan Africa             154   \n",
       "154        Benin               Sub-Saharan Africa             155   \n",
       "155        Syria  Middle East and Northern Africa             156   \n",
       "156      Burundi               Sub-Saharan Africa             157   \n",
       "157         Togo               Sub-Saharan Africa             158   \n",
       "\n",
       "     Happiness Score  Standard Error  Economy (GDP per Capita)   Family  \\\n",
       "0              7.587         0.03411                   1.39651  1.34951   \n",
       "1              7.561         0.04884                   1.30232  1.40223   \n",
       "2              7.527         0.03328                   1.32548  1.36058   \n",
       "3              7.522         0.03880                   1.45900  1.33095   \n",
       "4              7.427         0.03553                   1.32629  1.32261   \n",
       "..               ...             ...                       ...      ...   \n",
       "153            3.465         0.03464                   0.22208  0.77370   \n",
       "154            3.340         0.03656                   0.28665  0.35386   \n",
       "155            3.006         0.05015                   0.66320  0.47489   \n",
       "156            2.905         0.08658                   0.01530  0.41587   \n",
       "157            2.839         0.06727                   0.20868  0.13995   \n",
       "\n",
       "     Health (Life Expectancy)  Freedom  Trust (Government Corruption)  \\\n",
       "0                     0.94143  0.66557                        0.41978   \n",
       "1                     0.94784  0.62877                        0.14145   \n",
       "2                     0.87464  0.64938                        0.48357   \n",
       "3                     0.88521  0.66973                        0.36503   \n",
       "4                     0.90563  0.63297                        0.32957   \n",
       "..                        ...      ...                            ...   \n",
       "153                   0.42864  0.59201                        0.55191   \n",
       "154                   0.31910  0.48450                        0.08010   \n",
       "155                   0.72193  0.15684                        0.18906   \n",
       "156                   0.22396  0.11850                        0.10062   \n",
       "157                   0.28443  0.36453                        0.10731   \n",
       "\n",
       "     Generosity  Dystopia Residual first_five_letters  \n",
       "0       0.29678            2.51738             Switze  \n",
       "1       0.43630            2.70201             Icelan  \n",
       "2       0.34139            2.49204             Denmar  \n",
       "3       0.34699            2.46531             Norway  \n",
       "4       0.45811            2.45176             Canada  \n",
       "..          ...                ...                ...  \n",
       "153     0.22628            0.67042             Rwanda  \n",
       "154     0.18260            1.63328              Benin  \n",
       "155     0.47179            0.32858              Syria  \n",
       "156     0.19727            1.83302             Burund  \n",
       "157     0.16681            1.56726               Togo  \n",
       "\n",
       "[158 rows x 13 columns]"
      ]
     },
     "execution_count": 78,
     "metadata": {},
     "output_type": "execute_result"
    }
   ],
   "source": [
    "import pandas as pd\n",
    "link = \"https://raw.githubusercontent.com/dsrscientist/DSData/master/happiness_score_dataset.csv\"\n",
    "data = pd.read_csv(link)\n",
    "data\n",
    "data[\"first_five_letters\"]= data[\"Country\"].str[:6]\n",
    "data\n"
   ]
  },
  {
   "cell_type": "markdown",
   "id": "d31b9267-c658-4856-bd4e-9afbfe9805cd",
   "metadata": {},
   "source": [
    "Question 11- Write a Python program to match a string that contains only upper and lowercase letters, numbers, and underscores."
   ]
  },
  {
   "cell_type": "code",
   "execution_count": 84,
   "id": "cdba9dc4-e97e-492d-a879-a49cf495a4a5",
   "metadata": {},
   "outputs": [
    {
     "name": "stdout",
     "output_type": "stream",
     "text": [
      "<re.Match object; span=(0, 12), match='Smartoy_is23'>\n"
     ]
    }
   ],
   "source": [
    "string = \"Smartoy_is23\"\n",
    "special = re.match(r\"^[a-zA-Z0-9_]+$\",string)\n",
    "print(special)"
   ]
  },
  {
   "cell_type": "markdown",
   "id": "25749b14-443e-496e-8e03-8be9599aa11e",
   "metadata": {},
   "source": [
    "Question 12- Write a Python program where a string will start with a specific number. "
   ]
  },
  {
   "cell_type": "code",
   "execution_count": 88,
   "id": "ed592e6f-2097-4b81-9c95-fb64d473222a",
   "metadata": {},
   "outputs": [
    {
     "name": "stdout",
     "output_type": "stream",
     "text": [
      "[]\n"
     ]
    }
   ],
   "source": [
    "string =\"1956was the year\"\n",
    "digit = re.findall(r\"\\d[a-zA-Z]+$\", string)\n",
    "print(digit)\n"
   ]
  },
  {
   "cell_type": "markdown",
   "id": "b4782e01-3dde-4587-89af-a69ab886dcb4",
   "metadata": {},
   "source": [
    "Question 13- Write a Python program to remove leading zeros from an IP address"
   ]
  },
  {
   "cell_type": "code",
   "execution_count": 101,
   "id": "dae1d8c6-ac54-4693-b9eb-d99080570db4",
   "metadata": {},
   "outputs": [
    {
     "data": {
      "text/plain": [
       "'192.168.1.5'"
      ]
     },
     "execution_count": 101,
     "metadata": {},
     "output_type": "execute_result"
    }
   ],
   "source": [
    "string =\"000192.168.1.5\"\n",
    "re.sub(r\"0+\",\"\",string)"
   ]
  },
  {
   "cell_type": "markdown",
   "id": "9c37b60a-a78a-41f6-810b-b3ab06717d80",
   "metadata": {},
   "source": [
    "Question 14- Write a regular expression in python to match a date string in the form of Month name followed by day number and year stored in a text file.\n",
    "Sample text :  ' On August 15th 1947 that India was declared independent from British colonialism, and the reins of control were handed over to the leaders of the Country’.\n",
    "Expected Output- August 15th 1947\n",
    "Note- Store given sample text in the text file and then extract the date string asked format.\n"
   ]
  },
  {
   "cell_type": "code",
   "execution_count": 103,
   "id": "43099fd6-77d0-4ec9-af40-550434e9a335",
   "metadata": {},
   "outputs": [
    {
     "data": {
      "text/plain": [
       "['August 15th 1947']"
      ]
     },
     "execution_count": 103,
     "metadata": {},
     "output_type": "execute_result"
    }
   ],
   "source": [
    "string = \"On August 15th 1947 that India was declared independent from British colonialism, and the reins of control were handed over to the leaders of the Country\"\n",
    "re.findall(r\"\\b(?:January|February|March|April|May|June|July|August|September|October|November|December)\\s+\\d{1,2}(?:st|nd|rd|th)?\\s+\\d{4}\\b\", string)"
   ]
  },
  {
   "cell_type": "markdown",
   "id": "be3b18dd-5b49-4696-8908-02d95774e370",
   "metadata": {},
   "source": [
    "Question 15- Write a Python program to search some literals strings in a string. \n",
    "Sample text : 'The quick brown fox jumps over the lazy dog.'\n",
    "Searched words : 'fox', 'dog', 'horse'\n"
   ]
  },
  {
   "cell_type": "code",
   "execution_count": 107,
   "id": "753b50a0-ff7c-4db7-b613-b3a8aa85c9bb",
   "metadata": {},
   "outputs": [
    {
     "data": {
      "text/plain": [
       "<re.Match object; span=(16, 19), match='fox'>"
      ]
     },
     "execution_count": 107,
     "metadata": {},
     "output_type": "execute_result"
    }
   ],
   "source": [
    "string = \"The quick brown fox jumps over the lazy dog.\"\n",
    "re.search(\"fox\",string)"
   ]
  },
  {
   "cell_type": "code",
   "execution_count": 3,
   "id": "57b51069-9903-4f58-8425-91ccb8fb8c44",
   "metadata": {},
   "outputs": [
    {
     "data": {
      "text/plain": [
       "['fox']"
      ]
     },
     "execution_count": 3,
     "metadata": {},
     "output_type": "execute_result"
    }
   ],
   "source": [
    "string = \"The quick brown fox jumps over the lazy dog.\"\n",
    "re.findall(\"fox\",string)"
   ]
  },
  {
   "cell_type": "code",
   "execution_count": 2,
   "id": "0c417813-08ba-4a10-9c74-d74554a78141",
   "metadata": {},
   "outputs": [],
   "source": [
    "import re\n",
    "import pandas as pd"
   ]
  },
  {
   "cell_type": "markdown",
   "id": "66193431-27c2-4caf-bcaf-b8e542dbf9c0",
   "metadata": {},
   "source": [
    "Question 16- Write a Python program to search a literals string in a string and also find the location within the original string where the pattern occurs\n",
    "Sample text : 'The quick brown fox jumps over the lazy dog.'\n",
    "Searched words : 'fox'\n"
   ]
  },
  {
   "cell_type": "code",
   "execution_count": 5,
   "id": "69bc6f1a-d374-4ebb-8b69-db7ada8cd784",
   "metadata": {},
   "outputs": [
    {
     "name": "stdout",
     "output_type": "stream",
     "text": [
      "<callable_iterator object at 0x0000024363E6DC90>\n"
     ]
    }
   ],
   "source": [
    "string = \"The quick brown fox jumps over the lazy dog.\"\n",
    "match = re.finditer(r\"fox\", string)\n",
    "print(match)"
   ]
  },
  {
   "cell_type": "markdown",
   "id": "adcab1de-f703-45c4-9f0b-2c1aa67b46d7",
   "metadata": {},
   "source": [
    "Question 17- Write a Python program to find the substrings within a string.\n",
    "Sample text : 'Python exercises, PHP exercises, C# exercises'\n",
    "Pattern : 'exercises'\n"
   ]
  },
  {
   "cell_type": "code",
   "execution_count": 8,
   "id": "fc281958-e9cc-4b30-a8ed-3ddefe57db06",
   "metadata": {},
   "outputs": [
    {
     "name": "stdout",
     "output_type": "stream",
     "text": [
      "<re.Match object; span=(7, 16), match='exercises'>\n",
      "<re.Match object; span=(22, 31), match='exercises'>\n"
     ]
    }
   ],
   "source": [
    "string = \"Python exercises, PHP exercises, C# exercise\"\n",
    "pattern = \"exercises\"\n",
    "matches = re.finditer(pattern,string)\n",
    "for match in matches:\n",
    "    print(match)"
   ]
  },
  {
   "cell_type": "markdown",
   "id": "c332d055-41d1-45f9-99c7-5ba0a916a74f",
   "metadata": {},
   "source": [
    "Question 18- Write a Python program to find the occurrence and position of the substrings within a string."
   ]
  },
  {
   "cell_type": "code",
   "execution_count": 7,
   "id": "a88b9821-2f16-4b4a-be64-8187b4d00870",
   "metadata": {},
   "outputs": [
    {
     "name": "stdout",
     "output_type": "stream",
     "text": [
      "<re.Match object; span=(0, 4), match='east'>\n",
      "<re.Match object; span=(34, 38), match='east'>\n",
      "<re.Match object; span=(49, 53), match='east'>\n"
     ]
    }
   ],
   "source": [
    "string = 'east is the only direction to the east of bandra east'\n",
    "pattern = r\"east\"\n",
    "\n",
    "matches = re.finditer(pattern, string)\n",
    "for match in matches:\n",
    "    print(match)"
   ]
  },
  {
   "cell_type": "markdown",
   "id": "70c81a5d-c872-4642-80bc-f5cd07076c7d",
   "metadata": {},
   "source": [
    "Question 19- Write a Python program to convert a date of yyyy-mm-dd format to dd-mm-yyyy format."
   ]
  },
  {
   "cell_type": "code",
   "execution_count": 14,
   "id": "3695baf4-3d3e-4d0f-97fb-d5ec3b6dc4b7",
   "metadata": {},
   "outputs": [
    {
     "name": "stdout",
     "output_type": "stream",
     "text": [
      "08-10-1999\n"
     ]
    }
   ],
   "source": [
    "string = \"1999-10-08\"\n",
    "match = re.sub(r\"(\\d{4})-(\\d{2})-(\\d{2})\",r\"\\3-\\2-\\1\", string)\n",
    "print(match)"
   ]
  },
  {
   "cell_type": "markdown",
   "id": "29bdd08d-4c8a-46a0-a3b2-83cdcc668c51",
   "metadata": {},
   "source": [
    "Question 20- Create a function in python to find all decimal numbers with a precision of 1 or 2 in a string. The use of the re.compile() method is mandatory.\n",
    "Sample Text: \"01.12 0132.123 2.31875 145.8 3.01 27.25 0.25\"\n",
    "Expected Output: ['01.12', '145.8', '3.01', '27.25', '0.25']\n"
   ]
  },
  {
   "cell_type": "code",
   "execution_count": 16,
   "id": "771533c4-3009-4496-8120-300c9e5569df",
   "metadata": {},
   "outputs": [
    {
     "name": "stdout",
     "output_type": "stream",
     "text": [
      "['01.12', '145.8', '3.01', '27.25', '0.25']\n"
     ]
    }
   ],
   "source": [
    "string = \"01.12 0132.123 2.31875 145.8 3.01 27.25 0.25\"\n",
    "pattern = re.compile(r\"\\b\\d+\\.\\d{1,2}\\b\")\n",
    "match = pattern.findall(string)\n",
    "print(match)"
   ]
  },
  {
   "cell_type": "markdown",
   "id": "dab2a0ca-a2b4-4755-a935-50814154b4d5",
   "metadata": {},
   "source": [
    "Question 21- Write a Python program to separate and print the numbers and their position of a given string."
   ]
  },
  {
   "cell_type": "code",
   "execution_count": 17,
   "id": "d0b18090-ab0c-438b-987e-1d57600adbd0",
   "metadata": {},
   "outputs": [
    {
     "name": "stdout",
     "output_type": "stream",
     "text": [
      "<re.Match object; span=(0, 2), match='23'>\n",
      "<re.Match object; span=(23, 24), match='2'>\n",
      "<re.Match object; span=(41, 43), match='20'>\n",
      "<re.Match object; span=(54, 56), match='10'>\n"
     ]
    }
   ],
   "source": [
    "string = \"23 people were waiting 2 meters away for 20 days with 10 cars.\"\n",
    "pattern = r\"\\d+\"\n",
    "matches = re.finditer(pattern, string)\n",
    "for match in matches:\n",
    "    print(match)"
   ]
  },
  {
   "cell_type": "markdown",
   "id": "187d1c81-8dbb-40a0-9119-caebf0a894f7",
   "metadata": {},
   "source": [
    "Question 22- Write a regular expression in python program to extract maximum/largest numeric value from a string.\n",
    "Sample Text:  'My marks in each semester are: 947, 896, 926, 524, 734, 950, 642'\n",
    "Expected Output: 950\n"
   ]
  },
  {
   "cell_type": "code",
   "execution_count": 22,
   "id": "d3c5778e-5036-491f-8d11-048e7f12ae75",
   "metadata": {},
   "outputs": [
    {
     "name": "stdout",
     "output_type": "stream",
     "text": [
      "['947', '896', '926', '524', '734', '950', '642']\n"
     ]
    },
    {
     "data": {
      "text/plain": [
       "'950'"
      ]
     },
     "execution_count": 22,
     "metadata": {},
     "output_type": "execute_result"
    }
   ],
   "source": [
    "string = \"My marks in each semester are: 947, 896, 926, 524, 734, 950, 642\"\n",
    "match = re.findall(r\"\\d+\",string)\n",
    "print(match)\n",
    "max(match)"
   ]
  },
  {
   "cell_type": "markdown",
   "id": "b1fd1e92-510c-40d3-9eeb-bff62d1ad8d2",
   "metadata": {},
   "source": [
    "Question 23- Create a function in python to insert spaces between words starting with capital letters.\n",
    "Sample Text: “RegularExpressionIsAnImportantTopicInPython\"\n",
    "Expected Output: Regular Expression Is An Important Topic In Python\n"
   ]
  },
  {
   "cell_type": "code",
   "execution_count": 27,
   "id": "57dfb94e-e2b2-4dff-b3f0-c39371ec2476",
   "metadata": {},
   "outputs": [
    {
     "data": {
      "text/plain": [
       "'Regular Expression Is An Important Topic In Python'"
      ]
     },
     "execution_count": 27,
     "metadata": {},
     "output_type": "execute_result"
    }
   ],
   "source": [
    "string = \"RegularExpressionIsAnImportantTopicInPython\"\n",
    "pattern = r\"(?<=[a-z])([A-Z])\"\n",
    "re.sub(pattern, r\" \\1\", string)"
   ]
  },
  {
   "cell_type": "markdown",
   "id": "b5e920d1-ad53-4fae-a024-0c9e64ec5610",
   "metadata": {},
   "source": [
    "Question 24- Python regex to find sequences of one upper case letter followed by lower case letters"
   ]
  },
  {
   "cell_type": "code",
   "execution_count": 30,
   "id": "79154d5e-153e-4a20-825d-17164d76e374",
   "metadata": {},
   "outputs": [
    {
     "data": {
      "text/plain": [
       "['The', 'Followed', 'The', 'Sun', 'Our']"
      ]
     },
     "execution_count": 30,
     "metadata": {},
     "output_type": "execute_result"
    }
   ],
   "source": [
    "string = \"The stars are Followed by The Sun and Our milky way\"\n",
    "re.findall(r\"[A-Z][a-z]+\", string)"
   ]
  },
  {
   "cell_type": "markdown",
   "id": "5cbdbf1e-2e20-4db5-a26c-fef0eadce04e",
   "metadata": {},
   "source": [
    "Question 25- Write a Python program to remove continuous duplicate words from Sentence using Regular Expression.\n",
    "Sample Text: \"Hello hello world world\"\n",
    "Expected Output: Hello hello world\n"
   ]
  },
  {
   "cell_type": "code",
   "execution_count": 31,
   "id": "258c4894-c83a-439a-860c-a96b8dc14b11",
   "metadata": {},
   "outputs": [
    {
     "data": {
      "text/plain": [
       "'Hello hello world'"
      ]
     },
     "execution_count": 31,
     "metadata": {},
     "output_type": "execute_result"
    }
   ],
   "source": [
    "string = \"Hello hello world world\"\n",
    "re.sub(r'\\b(\\w+)(?:\\s+\\1\\b)+',r\"\\1\",string)"
   ]
  },
  {
   "cell_type": "code",
   "execution_count": null,
   "id": "85c4971d-ded6-43ab-abbb-2404bb30693b",
   "metadata": {},
   "outputs": [],
   "source": [
    "Question 26-  Write a python program using RegEx to accept string ending with alphanumeric character."
   ]
  },
  {
   "cell_type": "code",
   "execution_count": 20,
   "id": "ba741836-4ae5-4113-9719-a8b98f1f11f7",
   "metadata": {},
   "outputs": [
    {
     "data": {
      "text/plain": [
       "<re.Match object; span=(49, 56), match='EMV230@'>"
      ]
     },
     "execution_count": 20,
     "metadata": {},
     "output_type": "execute_result"
    }
   ],
   "source": [
    "import re\n",
    "string = \"the stars are shining with light of magnitude of EMV230@\"\n",
    "re.search(r\"\\w+[a-zA-Z0-9]@$\", string)"
   ]
  },
  {
   "cell_type": "markdown",
   "id": "78bd9cac-59d2-4aa2-8e08-4ac67c2537a9",
   "metadata": {},
   "source": [
    "Question 27-Write a python program using RegEx to extract the hashtags.\n",
    "Sample Text:  \"\"\"RT @kapil_kausik: #Doltiwal I mean #xyzabc is \"hurt\" by #Demonetization as the same has rendered USELESS <ed><U+00A0><U+00BD><ed><U+00B1><U+0089> \"acquired funds\" No wo\"\"\"\n",
    "Expected Output: ['#Doltiwal', '#xyzabc', '#Demonetization']\n"
   ]
  },
  {
   "cell_type": "code",
   "execution_count": 23,
   "id": "d9061c85-11d2-4a62-80e4-e439ad4067f6",
   "metadata": {},
   "outputs": [
    {
     "data": {
      "text/plain": [
       "['#Doltiwal', '#xyzabc', '#Demonetization']"
      ]
     },
     "execution_count": 23,
     "metadata": {},
     "output_type": "execute_result"
    }
   ],
   "source": [
    "string = \"\"\"RT @kapil_kausik: #Doltiwal I mean #xyzabc is \"hurt\" by #Demonetization as the same has rendered USELESS <ed><U+00A0><U+00BD><ed><U+00B1><U+0089> \"acquired funds\" No wo\"\"\"\n",
    "re.findall(r\"#[A-Za-z0-9]+\",string)"
   ]
  },
  {
   "cell_type": "markdown",
   "id": "c2e32c9c-14e6-43a6-9907-1e641ce9a1d4",
   "metadata": {},
   "source": [
    "Question 28- Write a python program using RegEx to remove <U+..> like symbols\n",
    "Check the below sample text, there are strange symbols something of the sort <U+..> all over the place. You need to come up with a general Regex expression that will cover all such symbols.\n",
    "Sample Text: \"@Jags123456 Bharat band on 28??<ed><U+00A0><U+00BD><ed><U+00B8><U+0082>Those who  are protesting #demonetization  are all different party leaders\"\n",
    "Expected Output: @Jags123456 Bharat band on 28??<ed><ed>Those who  are protesting #demonetization  are all different party leaders\n"
   ]
  },
  {
   "cell_type": "code",
   "execution_count": 28,
   "id": "77cb83b6-d443-47e9-9fd1-f31a5b924c8f",
   "metadata": {},
   "outputs": [
    {
     "data": {
      "text/plain": [
       "'@Jags123456 Bharat band on 28??<ed><ed>Those who  are protesting #demonetization  are all different party leaders'"
      ]
     },
     "execution_count": 28,
     "metadata": {},
     "output_type": "execute_result"
    }
   ],
   "source": [
    "string = \"@Jags123456 Bharat band on 28??<ed><U+00A0><U+00BD><ed><U+00B8><U+0082>Those who  are protesting #demonetization  are all different party leaders\"\n",
    "re.sub (r\"<U\\+[A-Za-z0-9]{4}>\",\"\", string)"
   ]
  },
  {
   "cell_type": "markdown",
   "id": "32f92494-5997-4ad8-bf95-f414586857ba",
   "metadata": {},
   "source": [
    "Question 29- Write a python program to extract dates from the text stored in the text file.\n",
    "Sample Text: Ron was born on 12-09-1992 and he was admitted to school 15-12-1999.\n",
    "Note- Store this sample text in the file and then extract dates.\n"
   ]
  },
  {
   "cell_type": "code",
   "execution_count": 29,
   "id": "1a5a5d38-7fa8-44a2-abef-2bd57fed2b0a",
   "metadata": {},
   "outputs": [
    {
     "data": {
      "text/plain": [
       "['12-09-1992', '15-12-1999']"
      ]
     },
     "execution_count": 29,
     "metadata": {},
     "output_type": "execute_result"
    }
   ],
   "source": [
    "\n",
    "string = \"Ron was born on 12-09-1992 and he was admitted to school 15-12-1999.\"\n",
    "re.findall(r\"\\b\\d{2}-\\d{2}-\\d{4}\\b\", string)"
   ]
  },
  {
   "cell_type": "markdown",
   "id": "d963b260-95fb-4114-bf30-6f9fecd19e73",
   "metadata": {},
   "source": [
    "Question 30- Create a function in python to remove all words from a string of length between 2 and 4.\n",
    "The use of the re.compile() method is mandatory.\n",
    "Sample Text: \"The following example creates an ArrayList with a capacity of 50 elements. 4 elements are then added to the ArrayList and the ArrayList is trimmed accordingly.\"\n",
    "Expected Output:  following example creates ArrayList a capacity elements. 4 elements added ArrayList ArrayList trimmed accordingly.\n"
   ]
  },
  {
   "cell_type": "code",
   "execution_count": 32,
   "id": "f0b9d28b-7d18-497b-b026-aab33d613a9c",
   "metadata": {},
   "outputs": [
    {
     "data": {
      "text/plain": [
       "' following example creates  ArrayList  a capacity   elements. 4 elements   added   ArrayList   ArrayList  trimmed accordingly.'"
      ]
     },
     "execution_count": 32,
     "metadata": {},
     "output_type": "execute_result"
    }
   ],
   "source": [
    "string = \"The following example creates an ArrayList with a capacity of 50 elements. 4 elements are then added to the ArrayList and the ArrayList is trimmed accordingly.\"\n",
    "pattern = re.compile(r\"\\b\\w{2,4}\\b\")\n",
    "pattern.sub(\"\",string)"
   ]
  },
  {
   "cell_type": "code",
   "execution_count": null,
   "id": "66c584bf-3de5-4cbe-93fa-a6f4d2e64b83",
   "metadata": {},
   "outputs": [],
   "source": []
  },
  {
   "cell_type": "code",
   "execution_count": null,
   "id": "eebfff6f-aa72-4dec-b97f-9f3b15365001",
   "metadata": {},
   "outputs": [],
   "source": []
  }
 ],
 "metadata": {
  "kernelspec": {
   "display_name": "Python 3 (ipykernel)",
   "language": "python",
   "name": "python3"
  },
  "language_info": {
   "codemirror_mode": {
    "name": "ipython",
    "version": 3
   },
   "file_extension": ".py",
   "mimetype": "text/x-python",
   "name": "python",
   "nbconvert_exporter": "python",
   "pygments_lexer": "ipython3",
   "version": "3.11.7"
  }
 },
 "nbformat": 4,
 "nbformat_minor": 5
}
